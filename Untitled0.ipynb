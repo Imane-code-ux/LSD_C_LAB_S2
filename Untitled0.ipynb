{
  "nbformat": 4,
  "nbformat_minor": 0,
  "metadata": {
    "colab": {
      "name": "Untitled0.ipynb",
      "provenance": [],
      "authorship_tag": "ABX9TyO+B10crXxvoKUsP+vhX9BX",
      "include_colab_link": true
    },
    "kernelspec": {
      "name": "python3",
      "display_name": "Python 3"
    },
    "language_info": {
      "name": "python"
    }
  },
  "cells": [
    {
      "cell_type": "markdown",
      "metadata": {
        "id": "view-in-github",
        "colab_type": "text"
      },
      "source": [
        "<a href=\"https://colab.research.google.com/github/Imane-code-ux/LSD_C_LAB_S2/blob/main/Untitled0.ipynb\" target=\"_parent\"><img src=\"https://colab.research.google.com/assets/colab-badge.svg\" alt=\"Open In Colab\"/></a>"
      ]
    },
    {
      "cell_type": "code",
      "metadata": {
        "id": "e6X7Y9i3f6-q"
      },
      "source": [
        "def dichotomie(f,a,b,n):\n",
        "  for i in range(0,n+1):\n",
        "    if(f(a)*f(b)<0):\n",
        "      c=((a+b))/2\n",
        "    if(f(c)*f(a)<0):\n",
        "      b=c\n",
        "    else:\n",
        "      a=c\n",
        "  return c\n",
        "\n",
        "\n",
        "\n",
        "\n"
      ],
      "execution_count": 3,
      "outputs": []
    }
  ]
}